{
 "cells": [
  {
   "cell_type": "code",
   "execution_count": 2,
   "metadata": {
    "ExecuteTime": {
     "end_time": "2020-07-07T15:06:16.209578Z",
     "start_time": "2020-07-07T15:06:16.207332Z"
    }
   },
   "outputs": [],
   "source": [
    "# default_exp core"
   ]
  },
  {
   "cell_type": "markdown",
   "metadata": {},
   "source": [
    "# module name here\n",
    "\n",
    "> API details."
   ]
  },
  {
   "cell_type": "code",
   "execution_count": 3,
   "metadata": {
    "ExecuteTime": {
     "end_time": "2020-07-07T15:06:18.664635Z",
     "start_time": "2020-07-07T15:06:18.104798Z"
    }
   },
   "outputs": [],
   "source": [
    "#hide\n",
    "from nbdev.showdoc import *"
   ]
  },
  {
   "cell_type": "code",
   "execution_count": 4,
   "metadata": {
    "ExecuteTime": {
     "end_time": "2020-07-07T15:06:19.516591Z",
     "start_time": "2020-07-07T15:06:19.507405Z"
    }
   },
   "outputs": [],
   "source": [
    "#exports\n",
    "\n",
    "import numpy as np \n",
    "import pandas as pd\n",
    "import pylab as pl\n",
    "from ifis_tools import asynch_manager as am \n",
    "from ifis_tools import database_tools as db \n",
    "from ifis_tools import auxiliar as aux\n",
    "from wmf import wmf\n",
    "\n",
    "\n",
    "colors = ['#52270C','#A1623B','#E7A011','#F3DE0A']\n",
    "\n",
    "def Get_sub_watersheds(watershed, order_max, order_min = 4):\n",
    "    '''Obtains the sub-watersheds a different orders starting from the order_max and \n",
    "    ending on the order_min, there is no return, it only updates the watershed.Table'''\n",
    "    orders = np.arange(order_max, order_min, -1).tolist()\n",
    "    for Prun in orders:\n",
    "        #Finds the connections points\n",
    "        Ho = Prun\n",
    "        watershed.Table['prun_'+str(Ho)] = 0\n",
    "        idx = watershed.Table.loc[watershed.Table['h_order']>=Ho].index\n",
    "        for i in idx:\n",
    "            size = watershed.Table.loc[(watershed.Table['dest'] == i) & (watershed.Table['h_order'] >= Ho-1)]\n",
    "            if size.shape[0] >= 2:\n",
    "                watershed.Table.loc[size.index, 'prun_'+str(Ho)] = 1\n",
    "\n",
    "        #Finds all the links that belong to a pruning level\n",
    "        idx = watershed.Table.loc[watershed.Table['prun_'+str(Ho)] == 1].sort_values(by = ['Acum'], ascending = False).index\n",
    "        cont = 2\n",
    "        for i in idx:\n",
    "            #Finds the watershed upstream\n",
    "            t = am.hlmModel(linkid=i)\n",
    "            idx_t = watershed.Table.index.intersection(t.Table.index)\n",
    "            #Assign that pruning level to the sub-watershed\n",
    "            watershed.Table.loc[idx_t, 'prun_'+str(Ho)] = cont\n",
    "            #Go to next pruning level\n",
    "            cont += 1\n",
    "        print('Prun %d done' % Prun)\n",
    "        \n",
    "def cascade_values_async(Table, param, level, seed_values, norm_dev = 0.15):\n",
    "    '''Generates a virtual setup of a watershed for a given set of values (seed_values)\n",
    "    the result is updates on the cu.Table DataFrame. This is the asynchronic version\n",
    "    that means that a level does not depends on the previous level.\n",
    "    Params:\n",
    "        - level: the minimum orton order to distribute the seed_values.\n",
    "        - param: name of the parameter in the table.\n",
    "        - seed_values: a list with the initial values for the biggest horton order.\n",
    "        - norm_dev: deviation aprameter to produce the random cascade.\n",
    "    Resutls:\n",
    "        - cu.Table[param]'''\n",
    "    Table[param] = 0.0\n",
    "    \n",
    "    for sub, value in zip(Table['prun_7'].unique(), seed_values):\n",
    "        Table.at[Table['prun_7'] == sub, param] = value\n",
    "\n",
    "    #Iterate for each level\n",
    "    for level in np.arange(7,level,-1):\n",
    "        name = 'prun_'+str(level)\n",
    "\n",
    "        #Iterate through the sub-watersheds of each level `\n",
    "        for subw in Table[name].unique():\n",
    "            factor = np.random.normal(1, norm_dev)\n",
    "            Table.loc[Table[name] == subw, param] *= factor  \n",
    "            \n",
    "def cascade_values_sync(Table, param, levels, seed_values, norm_dev = 0.15):\n",
    "    '''Generates a virtual setup of a watershed for a given set of values (seed_values)\n",
    "    the result is updates on the cu.Table DataFrame. Contrasted with the async version, this \n",
    "    version creates values that depends on the previous level.\n",
    "    Params:\n",
    "        - level: the minimum orton order to distribute the seed_values.\n",
    "        - param: name of the parameter in the table.\n",
    "        - seed_values: a list with the initial values for the biggest horton order.\n",
    "        - norm_dev: deviation aprameter to produce the random cascade.\n",
    "    Resutls:\n",
    "        - cu.Table[param]'''\n",
    "    p = param + '7'\n",
    "    Table[p] = 0.0    \n",
    "    for sub, value in zip(Table['prun_7'].unique(), seed_values):\n",
    "        Table.at[Table['prun_7'] == sub, p] = value\n",
    "\n",
    "    Factors = {}\n",
    "    #Iterate for each level\n",
    "    for level in np.arange(6,levels-1,-1):\n",
    "        \n",
    "        #Initial value\n",
    "        name = 'prun_'+str(level)\n",
    "        p = param + str(level)\n",
    "        Table[p] = Table[param + str(level+1)].copy()\n",
    "        fac = []\n",
    "        \n",
    "        #Iterate through the sub-watersheds of each level `\n",
    "        for subw in Table[name].unique():\n",
    "            factor = np.random.normal(1, norm_dev)            \n",
    "            Table.loc[Table[name] == subw, p] *= factor            \n",
    "            fac.append(factor)\n",
    "        Factors.update({str(level): fac})\n",
    "    return Factors"
   ]
  },
  {
   "cell_type": "code",
   "execution_count": 6,
   "metadata": {
    "ExecuteTime": {
     "end_time": "2020-07-07T15:10:58.661348Z",
     "start_time": "2020-07-07T15:10:58.588556Z"
    }
   },
   "outputs": [
    {
     "name": "stdout",
     "output_type": "stream",
     "text": [
      "Converted 00_core.ipynb.\n",
      "Converted 01_Virtual_data_setup.ipynb.\n",
      "Converted index.ipynb.\n"
     ]
    }
   ],
   "source": [
    "from nbdev.export import *\n",
    "notebook2script()"
   ]
  },
  {
   "cell_type": "code",
   "execution_count": null,
   "metadata": {},
   "outputs": [],
   "source": []
  }
 ],
 "metadata": {
  "kernelspec": {
   "display_name": "Python 3",
   "language": "python",
   "name": "python3"
  },
  "language_info": {
   "codemirror_mode": {
    "name": "ipython",
    "version": 3
   },
   "file_extension": ".py",
   "mimetype": "text/x-python",
   "name": "python",
   "nbconvert_exporter": "python",
   "pygments_lexer": "ipython3",
   "version": "3.7.0"
  },
  "toc": {
   "base_numbering": 1,
   "nav_menu": {},
   "number_sections": true,
   "sideBar": true,
   "skip_h1_title": false,
   "title_cell": "Table of Contents",
   "title_sidebar": "Contents",
   "toc_cell": false,
   "toc_position": {},
   "toc_section_display": true,
   "toc_window_display": false
  },
  "varInspector": {
   "cols": {
    "lenName": 16,
    "lenType": 16,
    "lenVar": 40
   },
   "kernels_config": {
    "python": {
     "delete_cmd_postfix": "",
     "delete_cmd_prefix": "del ",
     "library": "var_list.py",
     "varRefreshCmd": "print(var_dic_list())"
    },
    "r": {
     "delete_cmd_postfix": ") ",
     "delete_cmd_prefix": "rm(",
     "library": "var_list.r",
     "varRefreshCmd": "cat(var_dic_list()) "
    }
   },
   "types_to_exclude": [
    "module",
    "function",
    "builtin_function_or_method",
    "instance",
    "_Feature"
   ],
   "window_display": false
  }
 },
 "nbformat": 4,
 "nbformat_minor": 2
}
