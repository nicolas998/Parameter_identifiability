{
 "cells": [
  {
   "cell_type": "markdown",
   "metadata": {
    "heading_collapsed": true
   },
   "source": [
    "# Load packages "
   ]
  },
  {
   "cell_type": "code",
   "execution_count": 1,
   "metadata": {
    "ExecuteTime": {
     "end_time": "2020-07-23T04:42:29.364659Z",
     "start_time": "2020-07-23T04:42:25.946480Z"
    },
    "hidden": true
   },
   "outputs": [],
   "source": [
    "%matplotlib inline \n",
    "from ifis_tools import database_tools as db \n",
    "from ifis_tools import asynch_manager as am \n",
    "from ifis_tools import auxiliar as aux\n",
    "from scipy import signal\n",
    "from wmf import wmf\n",
    "import pandas as pd \n",
    "import numpy as np \n",
    "import os \n",
    "import glob \n",
    "import pylab as pl\n",
    "from string import Template\n",
    "from param_ident import core \n",
    "from aclayer import core as ac"
   ]
  },
  {
   "cell_type": "code",
   "execution_count": 2,
   "metadata": {
    "ExecuteTime": {
     "end_time": "2020-07-23T04:42:29.420507Z",
     "start_time": "2020-07-23T04:42:29.379313Z"
    },
    "hidden": true
   },
   "outputs": [],
   "source": [
    "def cascade_values_sync(Table, param, levels, seed_values, norm_dev = 0.15):\n",
    "    '''Generates a virtual setup of a watershed for a given set of values (seed_values)\n",
    "    the result is updates on the cu.Table DataFrame. Contrasted with the async version, this \n",
    "    version creates values that depends on the previous level.\n",
    "    Params:\n",
    "        - level: the minimum orton order to distribute the seed_values.\n",
    "        - param: name of the parameter in the table.\n",
    "        - seed_values: a list with the initial values for the biggest horton order.\n",
    "        - norm_dev: deviation aprameter to produce the random cascade.\n",
    "    Resutls:\n",
    "        - cu.Table[param]'''\n",
    "    p = param + '7'\n",
    "    Table[p] = 0.0    \n",
    "    for sub, value in zip(Table['prun_7'].unique(), seed_values):\n",
    "        Table.at[Table['prun_7'] == sub, p] = value\n",
    "\n",
    "    Factors = {}\n",
    "    #Iterate for each level\n",
    "    for level in np.arange(6,levels-1,-1):\n",
    "        \n",
    "        #Initial value\n",
    "        name = 'prun_'+str(level)\n",
    "        p = param + str(level)\n",
    "        Table[p] = Table[param + str(level+1)].copy()\n",
    "        fac = []\n",
    "        \n",
    "        #Iterate through the sub-watersheds of each level `\n",
    "        for subw in Table[name].unique():\n",
    "            factor = np.random.normal(1, norm_dev)            \n",
    "            Table.loc[Table[name] == subw, p] *= factor            \n",
    "            fac.append(factor)\n",
    "        Factors.update({str(level): fac})\n",
    "    return Factors"
   ]
  },
  {
   "cell_type": "markdown",
   "metadata": {
    "heading_collapsed": true
   },
   "source": [
    "# Get the relevant events on the watershed based on the simulations "
   ]
  },
  {
   "cell_type": "markdown",
   "metadata": {
    "hidden": true
   },
   "source": [
    "## Get the peaks start and end dates"
   ]
  },
  {
   "cell_type": "code",
   "execution_count": 3,
   "metadata": {
    "ExecuteTime": {
     "end_time": "2020-07-23T04:42:34.355305Z",
     "start_time": "2020-07-23T04:42:34.346346Z"
    },
    "hidden": true
   },
   "outputs": [],
   "source": [
    "#Reads the simulations\n",
    "q = pd.read_msgpack('data/hlm_outputs/south/272677_vr4_.msg')\n",
    "q = q['Q']"
   ]
  },
  {
   "cell_type": "code",
   "execution_count": 4,
   "metadata": {
    "ExecuteTime": {
     "end_time": "2020-07-23T04:42:34.662674Z",
     "start_time": "2020-07-23T04:42:34.621626Z"
    },
    "hidden": true
   },
   "outputs": [],
   "source": [
    "#Get peak, start and end\n",
    "loc, ph = signal.find_peaks(q,50,distance=150,width=10)\n",
    "qp = q.iloc[loc]\n",
    "#Get the start of the event \n",
    "loc = qp.index - pd.Timedelta('150h')\n",
    "qs = q.loc[loc]\n",
    "#get the end of the event \n",
    "loc = qp.index + pd.Timedelta('250h')\n",
    "qe = q.loc[loc]"
   ]
  },
  {
   "cell_type": "markdown",
   "metadata": {
    "hidden": true
   },
   "source": [
    "## Get the dates of the snapshots"
   ]
  },
  {
   "cell_type": "code",
   "execution_count": 5,
   "metadata": {
    "ExecuteTime": {
     "end_time": "2020-07-23T04:42:35.530711Z",
     "start_time": "2020-07-23T04:42:35.497123Z"
    },
    "hidden": true
   },
   "outputs": [],
   "source": [
    "#Read the list of snapshots\n",
    "L = glob.glob('data/for_hlm/south_skunk/snapshots/*')\n",
    "L.sort()\n",
    "\n",
    "#Get the dates of the snapshots\n",
    "dates = [i.split('/')[-1].split('_')[-1][:-3] for i in L]\n",
    "dates = pd.to_datetime(dates, unit='s')\n",
    "dates = pd.DataFrame(np.arange(dates.size), index=dates, columns=['val'])"
   ]
  },
  {
   "cell_type": "markdown",
   "metadata": {
    "ExecuteTime": {
     "end_time": "2020-07-23T04:26:18.144796Z",
     "start_time": "2020-07-23T04:26:18.129725Z"
    },
    "hidden": true
   },
   "source": [
    "## Get the dates to use for the events\n",
    "\n",
    "To do this, we take the dates from the start and end of each event. Then we find the nearest snapshot date for each, and those become the list of events."
   ]
  },
  {
   "cell_type": "code",
   "execution_count": 6,
   "metadata": {
    "ExecuteTime": {
     "end_time": "2020-07-23T04:42:37.166341Z",
     "start_time": "2020-07-23T04:42:37.051802Z"
    },
    "hidden": true
   },
   "outputs": [],
   "source": [
    "pos_start = []\n",
    "pos_end = []\n",
    "for idx_start, idx_end in zip(qs.index, qe.index):\n",
    "    pos_start.append(dates.index.get_loc(idx_start, method='nearest'))\n",
    "    pos_end.append(dates.index.get_loc(idx_end, method='nearest'))"
   ]
  },
  {
   "cell_type": "markdown",
   "metadata": {},
   "source": [
    "# Set the experiment to run the model in the dates \n",
    "\n",
    "Here we set up the to run the model with a random distribution of the parameters $v_0$ and $\\lambda_1$ considering the following prun levels:\n",
    "- 4\n",
    "- 5\n",
    "- 6\n",
    "- Global"
   ]
  },
  {
   "cell_type": "code",
   "execution_count": 160,
   "metadata": {
    "ExecuteTime": {
     "end_time": "2020-07-23T04:36:53.784750Z",
     "start_time": "2020-07-23T04:36:51.477815Z"
    }
   },
   "outputs": [],
   "source": [
    "#Get the watershed\n",
    "south = am.hlmModel(linkid=272678, ExtraParams=['h_order'])\n",
    "\n",
    "#Temporal rvr to get the topology of the watershed\n",
    "south.write_rvr('data/for_hlm/south_skunk/south_skunk.rvr')\n",
    "topo = south.topo.copy()\n",
    "topo.set_index('link_id', inplace = True)\n",
    "idx = south.Table.index.intersection(topo.index)\n",
    "south.Table['dest'] = topo['id'].loc[idx]\n",
    "\n",
    "#Put the watershed in a dictionary for generalization purposes\n",
    "wat = {'south': south}\n",
    "\n",
    "#Read the table of the prun levels of the watershed.\n",
    "wat['south'].Table = pd.read_csv('data/for_hlm/south_skunk/watershed_table.csv', index_col=0)"
   ]
  },
  {
   "cell_type": "code",
   "execution_count": 7,
   "metadata": {
    "ExecuteTime": {
     "end_time": "2020-07-23T04:42:41.854006Z",
     "start_time": "2020-07-23T04:42:41.084343Z"
    }
   },
   "outputs": [
    {
     "name": "stderr",
     "output_type": "stream",
     "text": [
      "/Users/nicolas/.local/lib/python3.7/site-packages/fortranmagic.py:147: UserWarning: get_ipython_cache_dir has moved to the IPython.paths module since IPython 4.0.\n",
      "  self._lib_dir = os.path.join(get_ipython_cache_dir(), 'fortran')\n"
     ]
    },
    {
     "data": {
      "application/javascript": [
       "new Promise(function(resolve, reject) {\n",
       "\tvar script = document.createElement(\"script\");\n",
       "\tscript.onload = resolve;\n",
       "\tscript.onerror = reject;\n",
       "\tscript.src = \"https://raw.github.com/marijnh/CodeMirror/master/mode/fortran/fortran.js\";\n",
       "\tdocument.head.appendChild(script);\n",
       "}).then(() => {\n",
       "IPython.config.cell_magic_highlight['magic_fortran'] = {'reg':[/^%%fortran/]};\n",
       "});"
      ]
     },
     "metadata": {},
     "output_type": "display_data"
    }
   ],
   "source": [
    "%load_ext fortranmagic"
   ]
  },
  {
   "cell_type": "code",
   "execution_count": 44,
   "metadata": {
    "ExecuteTime": {
     "end_time": "2020-07-23T05:03:48.143612Z",
     "start_time": "2020-07-23T05:03:45.299530Z"
    }
   },
   "outputs": [],
   "source": [
    "%%fortran\n",
    "\n",
    "subroutine get_size(path,Ncontrol, Nintervals)\n",
    "    !Define variables\n",
    "    character*255, intent(in) :: path    \n",
    "    integer,intent(out) :: Nintervals, Ncontrol\n",
    "    integer i, j, Nstates\n",
    "    \n",
    "    !Open first time just to get the dimensions\n",
    "    open(unit = 10, file = path, status = 'old', action = 'read')\n",
    "    read(10,*) Ncontrol\n",
    "    read(10,*) Nstates\n",
    "    read(10,*)\n",
    "    read(10,*) i, Nintervals\n",
    "    close(10)\n",
    "end subroutine\n"
   ]
  },
  {
   "cell_type": "code",
   "execution_count": 47,
   "metadata": {
    "ExecuteTime": {
     "end_time": "2020-07-23T05:07:10.364828Z",
     "start_time": "2020-07-23T05:07:07.568453Z"
    }
   },
   "outputs": [],
   "source": [
    "%%fortran\n",
    "subroutine get_data(path,Ncontrol, Nintervals, control, data)\n",
    "    !Define variables\n",
    "    character*255, intent(in) :: path \n",
    "    integer, intent(in) ::  Nintervals, Ncontrol \n",
    "    integer,intent(out) :: control(Ncontrol)\n",
    "    real, intent(out) :: data(Ncontrol,Nintervals)\n",
    "    integer i, j,Nstates,oe\n",
    "        \n",
    "    !Open the file to read the data\n",
    "    open(unit = 10, file = path, status = 'old', action = 'read')\n",
    "    read(10,*) \n",
    "    read(10,*)     \n",
    "    do i =1,Ncontrol\n",
    "        read(10,*)\n",
    "        read(10,*) control(i), oe\n",
    "        do j = 1, Nintervals\n",
    "            read(10,*) data(i,j)\n",
    "        enddo\n",
    "    enddo\n",
    "    close(10)\n",
    "end subroutine"
   ]
  },
  {
   "cell_type": "code",
   "execution_count": 53,
   "metadata": {
    "ExecuteTime": {
     "end_time": "2020-07-23T05:09:29.768394Z",
     "start_time": "2020-07-23T05:09:29.762636Z"
    }
   },
   "outputs": [],
   "source": [
    "L = glob.glob('data/for_hlm/south_skunk/out_4*.dat')\n",
    "L.sort()"
   ]
  },
  {
   "cell_type": "code",
   "execution_count": 69,
   "metadata": {
    "ExecuteTime": {
     "end_time": "2020-07-23T05:14:19.354868Z",
     "start_time": "2020-07-23T05:14:13.480023Z"
    }
   },
   "outputs": [],
   "source": [
    "Data = []\n",
    "Dates = []\n",
    "for path in L:\n",
    "    year = path.split('_')[-1].split('.')[0]\n",
    "    Ncont, Nint = get_size(path)\n",
    "    control, data = get_data(path, Ncont, Nint)\n",
    "    Data.append(data)\n",
    "    dates = pd.date_range(year+'-03-01 01:00', year+'-12-31 01:00', freq='1H')\n",
    "    Dates.extend(dates)"
   ]
  },
  {
   "cell_type": "code",
   "execution_count": 71,
   "metadata": {
    "ExecuteTime": {
     "end_time": "2020-07-23T05:14:33.520955Z",
     "start_time": "2020-07-23T05:14:33.438495Z"
    }
   },
   "outputs": [],
   "source": [
    "D = np.hstack(Data)"
   ]
  },
  {
   "cell_type": "code",
   "execution_count": 72,
   "metadata": {
    "ExecuteTime": {
     "end_time": "2020-07-23T05:14:40.621354Z",
     "start_time": "2020-07-23T05:14:40.562506Z"
    }
   },
   "outputs": [
    {
     "data": {
      "text/plain": [
       "(37, 124457)"
      ]
     },
     "execution_count": 72,
     "metadata": {},
     "output_type": "execute_result"
    }
   ],
   "source": [
    "D.shape"
   ]
  },
  {
   "cell_type": "code",
   "execution_count": 74,
   "metadata": {
    "ExecuteTime": {
     "end_time": "2020-07-23T05:15:19.561769Z",
     "start_time": "2020-07-23T05:15:18.536351Z"
    }
   },
   "outputs": [],
   "source": [
    "Df = pd.DataFrame(D.T, index=Dates, columns=control)"
   ]
  },
  {
   "cell_type": "code",
   "execution_count": 78,
   "metadata": {
    "ExecuteTime": {
     "end_time": "2020-07-23T05:16:00.429302Z",
     "start_time": "2020-07-23T05:15:59.750847Z"
    }
   },
   "outputs": [
    {
     "data": {
      "text/plain": [
       "<matplotlib.axes._subplots.AxesSubplot at 0x2b3751283a90>"
      ]
     },
     "execution_count": 78,
     "metadata": {},
     "output_type": "execute_result"
    },
    {
     "data": {
      "image/png": "[encoded data removed]",
      "text/plain": [
       "<Figure size 432x288 with 1 Axes>"
      ]
     },
     "metadata": {
      "needs_background": "light"
     },
     "output_type": "display_data"
    }
   ],
   "source": [
    "Df[272677].plot()"
   ]
  },
  {
   "cell_type": "code",
   "execution_count": null,
   "metadata": {},
   "outputs": [],
   "source": []
  }
 ],
 "metadata": {
  "kernelspec": {
   "display_name": "Python 3",
   "language": "python",
   "name": "python3"
  },
  "language_info": {
   "codemirror_mode": {
    "name": "ipython",
    "version": 3
   },
   "file_extension": ".py",
   "mimetype": "text/x-python",
   "name": "python",
   "nbconvert_exporter": "python",
   "pygments_lexer": "ipython3",
   "version": "3.7.0"
  },
  "toc": {
   "base_numbering": 1,
   "nav_menu": {},
   "number_sections": true,
   "sideBar": true,
   "skip_h1_title": false,
   "title_cell": "Table of Contents",
   "title_sidebar": "Contents",
   "toc_cell": false,
   "toc_position": {},
   "toc_section_display": true,
   "toc_window_display": true
  },
  "varInspector": {
   "cols": {
    "lenName": 16,
    "lenType": 16,
    "lenVar": 40
   },
   "kernels_config": {
    "python": {
     "delete_cmd_postfix": "",
     "delete_cmd_prefix": "del ",
     "library": "var_list.py",
     "varRefreshCmd": "print(var_dic_list())"
    },
    "r": {
     "delete_cmd_postfix": ") ",
     "delete_cmd_prefix": "rm(",
     "library": "var_list.r",
     "varRefreshCmd": "cat(var_dic_list()) "
    }
   },
   "types_to_exclude": [
    "module",
    "function",
    "builtin_function_or_method",
    "instance",
    "_Feature"
   ],
   "window_display": false
  }
 },
 "nbformat": 4,
 "nbformat_minor": 2
}
