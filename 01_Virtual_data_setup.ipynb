{
 "cells": [
  {
   "cell_type": "markdown",
   "metadata": {},
   "source": [
    "# Load Packages"
   ]
  },
  {
   "cell_type": "code",
   "execution_count": 1,
   "metadata": {
    "ExecuteTime": {
     "end_time": "2020-06-27T05:41:00.341471Z",
     "start_time": "2020-06-27T05:40:57.694740Z"
    }
   },
   "outputs": [
    {
     "name": "stdout",
     "output_type": "stream",
     "text": [
      "No se logra importar deap tools, por lo tanto se deshabilita SimuBasin.Calib_NSGAII\n"
     ]
    }
   ],
   "source": [
    "%matplotlib inline \n",
    "from ifis_tools import database_tools as db \n",
    "from ifis_tools import asynch_manager as am \n",
    "from ifis_tools import auxiliar as aux\n",
    "from wmf import wmf\n",
    "import pandas as pd \n",
    "import numpy as np \n",
    "import os \n",
    "import pylab as pl\n",
    "from string import Template"
   ]
  },
  {
   "cell_type": "markdown",
   "metadata": {},
   "source": [
    "# Define watershed from database"
   ]
  },
  {
   "cell_type": "code",
   "execution_count": 3,
   "metadata": {
    "ExecuteTime": {
     "end_time": "2020-06-27T05:41:14.438700Z",
     "start_time": "2020-06-27T05:41:12.635640Z"
    }
   },
   "outputs": [],
   "source": [
    "#Get the watershed\n",
    "cu = am.hlmModel(linkid=272678, ExtraParams=['h_order'])\n",
    "\n",
    "#Temporal rvr to get the topology of the watershed\n",
    "cu.write_rvr('data/for_hlm/south_skunk.rvr')\n",
    "topo = cu.topo.copy()\n",
    "topo.set_index('link_id', inplace = True)\n",
    "idx = cu.Table.index.intersection(topo.index)\n",
    "cu.Table['dest'] = topo['id'].loc[idx]\n",
    "\n",
    "#Read the coordinates \n",
    "coor,d = wmf.read_map_points('data/maps/hills_centroids_proj.shp', ['link_id'])\n",
    "Coor = pd.DataFrame(coor.T, index=d['link_id'])\n",
    "Coor.rename(columns={0:'X',1:'Y'}, inplace=True)"
   ]
  },
  {
   "cell_type": "code",
   "execution_count": 11,
   "metadata": {
    "ExecuteTime": {
     "end_time": "2020-06-27T05:46:08.523522Z",
     "start_time": "2020-06-27T05:46:08.513807Z"
    }
   },
   "outputs": [],
   "source": [
    "#export\n",
    "def Get_sub_watersheds(watershed, order_max, order_min = 4):\n",
    "    '''Obtains the sub-watersheds a different orders starting from the order_max and \n",
    "    ending on the order_min, there is no return, it only updates the watershed.Table'''\n",
    "    orders = np.arange(order_max, order_min, -1).tolist()\n",
    "    for Prun in orders:\n",
    "        #Finds the connections points\n",
    "        Ho = Prun\n",
    "        watershed.Table['prun_'+str(Ho)] = 0\n",
    "        idx = watershed.Table.loc[watershed.Table['h_order']>=Ho].index\n",
    "        for i in idx:\n",
    "            size = watershed.Table.loc[(watershed.Table['dest'] == i) & (watershed.Table['h_order'] >= Ho-1)]\n",
    "            if size.shape[0] >= 2:\n",
    "                watershed.Table.loc[size.index, 'prun_'+str(Ho)] = 1\n",
    "\n",
    "        #Finds all the links that belong to a pruning level\n",
    "        idx = watershed.Table.loc[watershed.Table['prun_'+str(Ho)] == 1].sort_values(by = ['Acum'], ascending = False).index\n",
    "        cont = 2\n",
    "        for i in idx:\n",
    "            #Finds the watershed upstream\n",
    "            t = am.hlmModel(linkid=i)\n",
    "            idx_t = watershed.Table.index.intersection(t.Table.index)\n",
    "            #Assign that pruning level to the sub-watershed\n",
    "            watershed.Table.loc[idx_t, 'prun_'+str(Ho)] = cont\n",
    "            #Go to next pruning level\n",
    "            cont += 1\n",
    "        print('Prun %d done' % Prun)"
   ]
  },
  {
   "cell_type": "code",
   "execution_count": 14,
   "metadata": {
    "ExecuteTime": {
     "end_time": "2020-06-27T05:46:24.597203Z",
     "start_time": "2020-06-27T05:46:19.962581Z"
    }
   },
   "outputs": [
    {
     "name": "stdout",
     "output_type": "stream",
     "text": [
      "Prun 7 done\n",
      "Prun 6 done\n"
     ]
    }
   ],
   "source": [
    "Get_sub_watersheds(cu, 7, 5)"
   ]
  },
  {
   "cell_type": "code",
   "execution_count": null,
   "metadata": {},
   "outputs": [],
   "source": []
  }
 ],
 "metadata": {
  "kernelspec": {
   "display_name": "Python 3",
   "language": "python",
   "name": "python3"
  },
  "language_info": {
   "codemirror_mode": {
    "name": "ipython",
    "version": 3
   },
   "file_extension": ".py",
   "mimetype": "text/x-python",
   "name": "python",
   "nbconvert_exporter": "python",
   "pygments_lexer": "ipython3",
   "version": "3.7.0"
  },
  "toc": {
   "base_numbering": 1,
   "nav_menu": {},
   "number_sections": true,
   "sideBar": true,
   "skip_h1_title": false,
   "title_cell": "Table of Contents",
   "title_sidebar": "Contents",
   "toc_cell": false,
   "toc_position": {},
   "toc_section_display": true,
   "toc_window_display": false
  },
  "varInspector": {
   "cols": {
    "lenName": 16,
    "lenType": 16,
    "lenVar": 40
   },
   "kernels_config": {
    "python": {
     "delete_cmd_postfix": "",
     "delete_cmd_prefix": "del ",
     "library": "var_list.py",
     "varRefreshCmd": "print(var_dic_list())"
    },
    "r": {
     "delete_cmd_postfix": ") ",
     "delete_cmd_prefix": "rm(",
     "library": "var_list.r",
     "varRefreshCmd": "cat(var_dic_list()) "
    }
   },
   "types_to_exclude": [
    "module",
    "function",
    "builtin_function_or_method",
    "instance",
    "_Feature"
   ],
   "window_display": false
  }
 },
 "nbformat": 4,
 "nbformat_minor": 2
}
