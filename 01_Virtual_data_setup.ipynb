{
 "cells": [
  {
   "cell_type": "markdown",
   "metadata": {},
   "source": [
    "# Load Packages"
   ]
  },
  {
   "cell_type": "code",
   "execution_count": 126,
   "metadata": {
    "ExecuteTime": {
     "end_time": "2020-07-08T14:57:25.515737Z",
     "start_time": "2020-07-08T14:57:25.509937Z"
    }
   },
   "outputs": [],
   "source": [
    "%matplotlib inline \n",
    "from ifis_tools import database_tools as db \n",
    "from ifis_tools import asynch_manager as am \n",
    "from ifis_tools import auxiliar as aux\n",
    "from wmf import wmf\n",
    "import pandas as pd \n",
    "import numpy as np \n",
    "import os \n",
    "import pylab as pl\n",
    "from string import Template\n",
    "from param_ident import core \n",
    "from aclayer import core as ac"
   ]
  },
  {
   "cell_type": "code",
   "execution_count": 127,
   "metadata": {
    "ExecuteTime": {
     "end_time": "2020-07-08T14:57:27.911948Z",
     "start_time": "2020-07-08T14:57:27.909298Z"
    }
   },
   "outputs": [],
   "source": [
    "names = {'south': {'path': 'data/for_hlm/south_skunk/'},\n",
    "        'turkey':{'path':'data/for_hlm/turkey/'}}"
   ]
  },
  {
   "cell_type": "markdown",
   "metadata": {},
   "source": [
    "# Define Watershed setups\n",
    "\n",
    "In this step we will produce the setups of the watersheds making variations of $v_0$ and $\\lambda_1$ for different sizes of sub-watersheds."
   ]
  },
  {
   "cell_type": "code",
   "execution_count": 133,
   "metadata": {
    "ExecuteTime": {
     "end_time": "2020-07-08T15:05:51.166324Z",
     "start_time": "2020-07-08T15:05:49.359112Z"
    }
   },
   "outputs": [],
   "source": [
    "#Get the watershed\n",
    "south = am.hlmModel(linkid=272678, ExtraParams=['h_order'])\n",
    "\n",
    "#Temporal rvr to get the topology of the watershed\n",
    "south.write_rvr('data/for_hlm/south_skunk/south_skunk.rvr')\n",
    "topo = south.topo.copy()\n",
    "topo.set_index('link_id', inplace = True)\n",
    "idx = south.Table.index.intersection(topo.index)\n",
    "south.Table['dest'] = topo['id'].loc[idx]"
   ]
  },
  {
   "cell_type": "code",
   "execution_count": 129,
   "metadata": {
    "ExecuteTime": {
     "end_time": "2020-07-08T14:57:39.357363Z",
     "start_time": "2020-07-08T14:57:37.128562Z"
    }
   },
   "outputs": [],
   "source": [
    "#Get the watershed\n",
    "turkey = am.hlmModel(linkid=434514, ExtraParams=['h_order'])\n",
    "\n",
    "#Temporal rvr to get the topology of the watershed\n",
    "turkey.write_rvr('data/for_hlm/turkey/turkey.rvr')\n",
    "topo = turkey.topo.copy()\n",
    "topo.set_index('link_id', inplace = True)\n",
    "idx = turkey.Table.index.intersection(topo.index)\n",
    "turkey.Table['dest'] = topo['id'].loc[idx]"
   ]
  },
  {
   "cell_type": "code",
   "execution_count": 134,
   "metadata": {
    "ExecuteTime": {
     "end_time": "2020-07-08T15:05:51.856002Z",
     "start_time": "2020-07-08T15:05:51.852513Z"
    }
   },
   "outputs": [],
   "source": [
    "wat = {'south': south, 'turkey': turkey}"
   ]
  },
  {
   "cell_type": "markdown",
   "metadata": {},
   "source": [
    "## Obtain sub-watersheds at different prun-levels\n",
    "\n",
    "Here we include levels from 7 to 4, then we will produce random values of $v_0$ and $\\lambda_1$ using a cascade approach."
   ]
  },
  {
   "cell_type": "code",
   "execution_count": null,
   "metadata": {
    "ExecuteTime": {
     "end_time": "2020-07-07T16:17:22.681258Z",
     "start_time": "2020-07-07T16:11:27.682259Z"
    }
   },
   "outputs": [],
   "source": [
    "# obtain the sub-watersheds for each one (this takes time try not to run it, instead read the data)\n",
    "core.Get_sub_watersheds(wat['south'], 7, 3)\n",
    "core.Get_sub_watersheds(wat['turkey'], 7, 3)\n",
    "# Save to csv files to avoid doing this again.\n",
    "wat['south'].Table.to_csv('data/for_hlm/south_skunk/watershed_table.csv')\n",
    "wat['turkey'].Table.to_csv('data/for_hlm/turkey/watershed_table.csv')"
   ]
  },
  {
   "cell_type": "code",
   "execution_count": 176,
   "metadata": {
    "ExecuteTime": {
     "end_time": "2020-07-08T15:57:53.856392Z",
     "start_time": "2020-07-08T15:57:53.828490Z"
    }
   },
   "outputs": [],
   "source": [
    "wat['south'].Table = pd.read_csv('data/for_hlm/south_skunk/watershed_table.csv', index_col=0)\n",
    "wat['turkey'].Table = pd.read_csv('data/for_hlm/turkey/watershed_table.csv', index_col=0)"
   ]
  },
  {
   "cell_type": "markdown",
   "metadata": {},
   "source": [
    "## Distribute $v_0$ and $\\lambda_1$ using the cascade\n",
    "\n",
    "Produce $v_0$ values for each level "
   ]
  },
  {
   "cell_type": "code",
   "execution_count": 149,
   "metadata": {
    "ExecuteTime": {
     "end_time": "2020-07-08T15:35:21.060517Z",
     "start_time": "2020-07-08T15:35:14.118593Z"
    }
   },
   "outputs": [],
   "source": [
    "for name, seed in zip(['turkey','south'], [[0.15,0.2,0.18,0.25,0.3,0.35,0.4], [0.15,0.3,0.22]]):\n",
    "    for level in [6, 5, 4]:\n",
    "        core.cascade_values(wat[name].Table, 'vo_cas', level-1, seed)\n",
    "        wat[name].Table.rename(columns = {'vo_cas': 'vo'+str(level)}, inplace = True)"
   ]
  },
  {
   "cell_type": "markdown",
   "metadata": {},
   "source": [
    "Synchronic production of the virtual variables $v_0$ and $\\lambda_1$."
   ]
  },
  {
   "cell_type": "code",
   "execution_count": 179,
   "metadata": {
    "ExecuteTime": {
     "end_time": "2020-07-08T15:58:16.825827Z",
     "start_time": "2020-07-08T15:58:06.077611Z"
    }
   },
   "outputs": [],
   "source": [
    "for name, seed in zip(['turkey','south'], [[0.15,0.2,0.18,0.25,0.3,0.35,0.4], [0.15,0.3,0.22]]):\n",
    "    f_vo = cascade_values_sync(wat[name].Table, 'vo', 4,  [0.15,0.3,0.22])\n",
    "for name, seed in zip(['turkey','south'], [[0.19,0.22,0.2,0.22,0.2,0.23,0.3], [0.18,0.23,0.25]]):\n",
    "    f_l1 = cascade_values_sync(wat[name].Table, 'la', 4, seed)"
   ]
  },
  {
   "cell_type": "markdown",
   "metadata": {},
   "source": [
    "Produce $\\lambda_1$ values for each level "
   ]
  },
  {
   "cell_type": "code",
   "execution_count": 150,
   "metadata": {
    "ExecuteTime": {
     "end_time": "2020-07-08T15:35:31.436577Z",
     "start_time": "2020-07-08T15:35:24.567525Z"
    }
   },
   "outputs": [],
   "source": [
    "for name, seed in zip(['turkey','south'], [[0.19,0.22,0.2,0.22,0.2,0.23,0.3], [0.18,0.23,0.25]]):\n",
    "    for level in [6, 5, 4]:\n",
    "        core.cascade_values(wat[name].Table, 'vo_cas', level-1, seed)\n",
    "        wat[name].Table.rename(columns = {'vo_cas': 'la'+str(level)}, inplace = True)"
   ]
  },
  {
   "cell_type": "markdown",
   "metadata": {},
   "source": [
    "Save the results to a couple of tables with the distributed parameters."
   ]
  },
  {
   "cell_type": "code",
   "execution_count": 151,
   "metadata": {
    "ExecuteTime": {
     "end_time": "2020-07-08T15:35:35.678106Z",
     "start_time": "2020-07-08T15:35:32.575462Z"
    }
   },
   "outputs": [],
   "source": [
    "for name in names.keys():\n",
    "    wat[name].Table.to_csv(names[name]['path']+'water_virtual.csv')"
   ]
  },
  {
   "cell_type": "markdown",
   "metadata": {},
   "source": [
    "### Plot with the obtained distribution at each case."
   ]
  },
  {
   "cell_type": "code",
   "execution_count": 182,
   "metadata": {
    "ExecuteTime": {
     "end_time": "2020-07-08T15:58:55.631842Z",
     "start_time": "2020-07-08T15:58:55.521702Z"
    }
   },
   "outputs": [],
   "source": [
    "wat['south'].Table = pd.read_csv('data/for_hlm/south_skunk/water_virtual.csv', index_col = 0)\n",
    "wat['turkey'].Table = pd.read_csv('data/for_hlm/turkey/water_virtual.csv', index_col = 0)"
   ]
  },
  {
   "cell_type": "code",
   "execution_count": 181,
   "metadata": {
    "ExecuteTime": {
     "end_time": "2020-07-08T15:58:30.851591Z",
     "start_time": "2020-07-08T15:58:27.224203Z"
    },
    "hide_input": false
   },
   "outputs": [
    {
     "data": {
      "text/plain": [
       "[]"
      ]
     },
     "execution_count": 181,
     "metadata": {},
     "output_type": "execute_result"
    },
    {
     "data": {
      "image/png": "[encoded data removed]",
      "text/plain": [
       "<Figure size 1440x864 with 4 Axes>"
      ]
     },
     "metadata": {
      "needs_background": "light"
     },
     "output_type": "display_data"
    }
   ],
   "source": [
    "fig  = pl.figure(figsize=(20,12))\n",
    "bins = np.arange(0.1,0.5,0.05)\n",
    "\n",
    "###################### Vo\n",
    "\n",
    "ax = fig.add_subplot(221)\n",
    "for n,alpha in zip(['vo6','vo5','vo4'],[0.85,0.6,0.4]):\n",
    "    h,b = ac.get_histogram(wat['south'].Table[n], bins = bins, inf = 0.1, sup = 0.5)\n",
    "    pl.bar(b[:-1], 100 * h / h.sum(), 0.05, align='edge', edgecolor = 'k', lw = 3, alpha = alpha, \n",
    "          label = 'Order ' + n[-1])\n",
    "ax.tick_params(labelsize = 23)\n",
    "ax.grid()\n",
    "ax.set_ylim(0,65)\n",
    "ax.set_title('a) $v_0$ for South skunk', size = 24)\n",
    "ax.set_ylabel('Fraction [$\\%$]', size = 23)\n",
    "ax.legend(loc = 0, fontsize = 'xx-large')\n",
    "ax.set_xticklabels([])\n",
    "\n",
    "ax = fig.add_subplot(222)\n",
    "for n,alpha in zip(['vo6','vo5','vo4'],[0.85,0.6,0.4]):\n",
    "    h,b = ac.get_histogram(wat['turkey'].Table[n], bins = bins, inf = 0.1, sup = 0.5)\n",
    "    pl.bar(b[:-1], 100 * h / h.sum(), 0.05, align='edge', edgecolor = 'k', lw = 3, alpha = alpha, \n",
    "          label = 'Order ' + n[-1])\n",
    "ax.tick_params(labelsize = 23)\n",
    "ax.grid()\n",
    "ax.set_ylim(0,65)\n",
    "ax.set_title('b) $v_0$ for Turkey', size = 24)\n",
    "ax.set_yticklabels([])\n",
    "ax.set_xticklabels([])\n",
    "\n",
    "\n",
    "###################### LAMBDA\n",
    "\n",
    "ax = fig.add_subplot(223)\n",
    "for n,alpha in zip(['la6','la5','la4'],[0.85,0.6,0.4]):\n",
    "    h,b = ac.get_histogram(wat['south'].Table[n], bins = bins, inf = 0.1, sup = 0.5)\n",
    "    pl.bar(b[:-1], 100 * h / h.sum(), 0.05, align='edge', edgecolor = 'k', lw = 3, alpha = alpha, \n",
    "          label = 'Order ' + n[-1])\n",
    "ax.tick_params(labelsize = 23)\n",
    "ax.grid()\n",
    "ax.set_ylim(0,65)\n",
    "ax.set_title('c) $\\lambda_1$ for South skunk', size = 24)\n",
    "ax.set_ylabel('Fraction [$\\%$]', size = 23)\n",
    "\n",
    "ax = fig.add_subplot(224)\n",
    "for n,alpha in zip(['la6','la5','la4'],[0.85,0.6,0.4]):\n",
    "    h,b = ac.get_histogram(wat['turkey'].Table[n], bins = bins, inf = 0.1, sup = 0.5)\n",
    "    pl.bar(b[:-1], 100 * h / h.sum(), 0.05, align='edge', edgecolor = 'k', lw = 3, alpha = alpha, \n",
    "          label = 'Order ' + n[-1])\n",
    "ax.tick_params(labelsize = 23)\n",
    "ax.grid()\n",
    "ax.set_ylim(0,65)\n",
    "ax.set_title('d) $\\lambda_1$ for Turkey', size = 24)\n",
    "ax.set_yticklabels([])\n",
    "#pl.savefig('figures/Vo_and_L1_distribution_levels_654.png', bbox_inches = 'tight')"
   ]
  },
  {
   "cell_type": "markdown",
   "metadata": {},
   "source": [
    "# Write Waterhsed data for the HLM model to run "
   ]
  },
  {
   "cell_type": "markdown",
   "metadata": {},
   "source": [
    "Creates the control points for both watersheds"
   ]
  },
  {
   "cell_type": "code",
   "execution_count": 47,
   "metadata": {
    "ExecuteTime": {
     "end_time": "2020-07-07T21:52:51.831101Z",
     "start_time": "2020-07-07T21:52:40.450800Z"
    }
   },
   "outputs": [],
   "source": [
    "#Creates a sav file of the control points.\n",
    "for name in wat.keys():\n",
    "    for k in [4,5,6]:\n",
    "        f = open(names[name]['path'] + 'control_vr'+str(k)+'.sav','w')\n",
    "        for i in wat[name].Table['prun_'+str(k)].unique():\n",
    "            f.write('%d\\n' % wat[name].Table.loc[wat[name].Table['prun_'+str(k)] == i, 'Acum'].idxmax())\n",
    "        f.close()"
   ]
  },
  {
   "cell_type": "markdown",
   "metadata": {},
   "source": [
    "Setup the global parameters for both cases "
   ]
  },
  {
   "cell_type": "code",
   "execution_count": 29,
   "metadata": {
    "ExecuteTime": {
     "end_time": "2020-07-07T21:27:23.318157Z",
     "start_time": "2020-07-07T21:27:23.303924Z"
    }
   },
   "outputs": [],
   "source": [
    "#Set the global parameters for both watersheds.\n",
    "\n",
    "Params = {'v_r': {'value': 0.02,'format': '%.4f'},\n",
    "    'a_r': {'value': 1.67,'format': '%.2f'},\n",
    "    'a': {'value': 1.5e-6,'format': '%.2e'},\n",
    "    'b': {'value': 17,'format': '%.2f'},\n",
    "    'c': {'value': 5.5e-7,'format': '%.2e'}, # 0.001\n",
    "    'd': {'value': 35,'format': '%.2f'}, # 0.03\n",
    "    'm1': {'value': 2.045e-6,'format': '%.2e'},\n",
    "    'ki_fac': {'value': 0.02,'format': '%.4f'},\n",
    "    'TopDepth': {'value': 0.1,'format': '%.2f'},\n",
    "    'NoFlow': {'value': 1.48,'format': '%.2f'},\n",
    "    'Td': {'value': 999,'format': '%.2f'}, # 1.54\n",
    "    'Beta': {'value': 1.67,'format': '%.2f'},\n",
    "    'lambda1': {'value': 0.18,'format': '%.3f'},\n",
    "    'lambda2': {'value': -0.1,'format': '%.2f'},\n",
    "    'channel_vo': {'value': 0.25,'format': '%.3f'},} \n",
    "Order = ['v_r','a_r','a','b','c','d','m1','ki_fac',\n",
    "    'TopDepth','NoFlow','Td','Beta','lambda1', 'lambda2','channel_vo']\n",
    "for name in wat.keys():\n",
    "    wat[name].set_parameters(DictP=Params, DicOrder=Order)"
   ]
  },
  {
   "cell_type": "markdown",
   "metadata": {},
   "source": [
    "Setup the virtually distributed parameters of both cases."
   ]
  },
  {
   "cell_type": "code",
   "execution_count": 33,
   "metadata": {
    "ExecuteTime": {
     "end_time": "2020-07-07T21:32:45.219156Z",
     "start_time": "2020-07-07T21:32:33.439125Z"
    }
   },
   "outputs": [],
   "source": [
    "#setupo the distributed virtual parameters of both cases for the different levels.\n",
    "for name in wat.keys():\n",
    "    for i in [4,5,6]:\n",
    "        # setup the parameters for each watershed.\n",
    "        wat[name].Table.at[wat[name].Table.index, 'channel_vo'] = wat[name].Table['vo'+str(i)].values\n",
    "        wat[name].Table.at[wat[name].Table.index, 'lambda1'] = wat[name].Table['la'+str(i)].values\n",
    "        \n",
    "        #Write the param file to run HLM\n",
    "        wat[name].write_prm(names[name]['path']+'param_o'+str(i)+'.prm', \n",
    "            extraNames=Order,\n",
    "            extraFormats=[Params[k]['format'] for k in Order])\n",
    "        "
   ]
  },
  {
   "cell_type": "markdown",
   "metadata": {},
   "source": [
    "Write the global files."
   ]
  },
  {
   "cell_type": "code",
   "execution_count": 52,
   "metadata": {
    "ExecuteTime": {
     "end_time": "2020-07-07T22:07:36.290512Z",
     "start_time": "2020-07-07T22:07:36.287308Z"
    }
   },
   "outputs": [
    {
     "data": {
      "text/plain": [
       "'turkey'"
      ]
     },
     "execution_count": 52,
     "metadata": {},
     "output_type": "execute_result"
    }
   ],
   "source": [
    "name"
   ]
  },
  {
   "cell_type": "code",
   "execution_count": 95,
   "metadata": {
    "ExecuteTime": {
     "end_time": "2020-07-08T04:19:01.007860Z",
     "start_time": "2020-07-08T04:18:59.963910Z"
    }
   },
   "outputs": [],
   "source": [
    "for name in wat.keys():\n",
    "    path = names[name]['path']    \n",
    "    for y in range(2002,2019):\n",
    "        #Writes the global files and run files    \n",
    "        for k in [4,5,6]:\n",
    "            #Set the name of the global file\n",
    "            global_name = 'global_'+str(k)+'_'+str(y)+'.gbl'\n",
    "            #Writes the global file\n",
    "            wat[name].write_Global(path + global_name,model_uid=608,\n",
    "                date1=str(y)+'-03-01 01:00', \n",
    "                date2=str(y)+'-12-31 01:00',\n",
    "                rvrFile='/Users/nicolas/Parameter_identifiability/'+path+'topology.rvr', \n",
    "                rvrLink='',\n",
    "                prmFile='/Users/nicolas/Parameter_identifiability/'+path+'param_o'+str(k)+'.prm',\n",
    "                initialFile='/Users/nicolas/Parameter_identifiability/data/for_hlm/initial.uini',\n",
    "                initialType = 1,\n",
    "                rainPath = '/Dedicated/IFC/data_bin/stage4/st4_'+str(y)+'/iowa_',\n",
    "                controlFile='/Users/nicolas/Parameter_identifiability/'+path+'control_vr4.sav',\n",
    "                nComponents = 1,\n",
    "                Components = [0],\n",
    "                datResults='out_'+str(k)+'_'+str(y)+'.dat',\n",
    "                evpFile='/Users/nicolas/Parameter_identifiability/data/for_hlm/evap.mon')\n",
    "            #Updates the dictionary with the parameters to setup the run\n",
    "            Proc={global_name:{'nproc': 14, 'secondplane': False}}\n",
    "            #Writes the runfile with all the comands\n",
    "            wat[name].write_runfile(path + 'run_'+str(k)+'_'+str(y)+'.sh', \n",
    "                Proc, jobName='o'+str(k)+'_'+str(y), nCores= 14) "
   ]
  },
  {
   "cell_type": "code",
   "execution_count": 76,
   "metadata": {
    "ExecuteTime": {
     "end_time": "2020-07-08T04:10:22.591125Z",
     "start_time": "2020-07-08T04:10:22.581119Z"
    }
   },
   "outputs": [],
   "source": [
    "aa = pd.read_csv('data/for_hlm/south_skunk/control_vr5.sav', skiprows=0)"
   ]
  },
  {
   "cell_type": "code",
   "execution_count": 121,
   "metadata": {
    "ExecuteTime": {
     "end_time": "2020-07-08T13:45:51.408696Z",
     "start_time": "2020-07-08T13:45:51.381556Z"
    }
   },
   "outputs": [],
   "source": [
    "Q = {}\n",
    "for i in [4,5,6]:\n",
    "    q = pd.read_msgpack('data/hlm_outputs/south/269728_vr'+str(i)+'_.msg')\n",
    "    Q.update({str(i): q})\n"
   ]
  },
  {
   "cell_type": "code",
   "execution_count": 122,
   "metadata": {
    "ExecuteTime": {
     "end_time": "2020-07-08T13:45:52.713921Z",
     "start_time": "2020-07-08T13:45:52.703997Z"
    }
   },
   "outputs": [
    {
     "data": {
      "text/html": [
       "<div>\n",
       "<style scoped>\n",
       "    .dataframe tbody tr th:only-of-type {\n",
       "        vertical-align: middle;\n",
       "    }\n",
       "\n",
       "    .dataframe tbody tr th {\n",
       "        vertical-align: top;\n",
       "    }\n",
       "\n",
       "    .dataframe thead th {\n",
       "        text-align: right;\n",
       "    }\n",
       "</style>\n",
       "<table border=\"1\" class=\"dataframe\">\n",
       "  <thead>\n",
       "    <tr style=\"text-align: right;\">\n",
       "      <th></th>\n",
       "      <th>Q</th>\n",
       "    </tr>\n",
       "  </thead>\n",
       "  <tbody>\n",
       "    <tr>\n",
       "      <th>2016-03-01 01:00:00</th>\n",
       "      <td>0.000001</td>\n",
       "    </tr>\n",
       "    <tr>\n",
       "      <th>2016-03-01 02:00:00</th>\n",
       "      <td>0.000500</td>\n",
       "    </tr>\n",
       "    <tr>\n",
       "      <th>2016-03-01 03:00:00</th>\n",
       "      <td>0.002159</td>\n",
       "    </tr>\n",
       "    <tr>\n",
       "      <th>2016-03-01 04:00:00</th>\n",
       "      <td>0.005424</td>\n",
       "    </tr>\n",
       "    <tr>\n",
       "      <th>2016-03-01 05:00:00</th>\n",
       "      <td>0.009523</td>\n",
       "    </tr>\n",
       "  </tbody>\n",
       "</table>\n",
       "</div>"
      ],
      "text/plain": [
       "                            Q\n",
       "2016-03-01 01:00:00  0.000001\n",
       "2016-03-01 02:00:00  0.000500\n",
       "2016-03-01 03:00:00  0.002159\n",
       "2016-03-01 04:00:00  0.005424\n",
       "2016-03-01 05:00:00  0.009523"
      ]
     },
     "execution_count": 122,
     "metadata": {},
     "output_type": "execute_result"
    }
   ],
   "source": [
    "Q['4']['2016'].head()"
   ]
  },
  {
   "cell_type": "code",
   "execution_count": 125,
   "metadata": {
    "ExecuteTime": {
     "end_time": "2020-07-08T13:46:15.666950Z",
     "start_time": "2020-07-08T13:46:14.440051Z"
    }
   },
   "outputs": [
    {
     "data": {
      "image/png": "[encoded data removed]",
      "text/plain": [
       "<Figure size 432x288 with 1 Axes>"
      ]
     },
     "metadata": {
      "needs_background": "light"
     },
     "output_type": "display_data"
    }
   ],
   "source": [
    "for k in Q.keys():\n",
    "    Q[k]['Q']['2013-4-3':'2013-12-7'].plot.line(label = k, lw =3)"
   ]
  },
  {
   "cell_type": "code",
   "execution_count": null,
   "metadata": {},
   "outputs": [],
   "source": []
  },
  {
   "cell_type": "code",
   "execution_count": null,
   "metadata": {},
   "outputs": [],
   "source": []
  },
  {
   "cell_type": "code",
   "execution_count": null,
   "metadata": {
    "hide_input": true
   },
   "outputs": [],
   "source": []
  }
 ],
 "metadata": {
  "kernelspec": {
   "display_name": "Python 3",
   "language": "python",
   "name": "python3"
  },
  "language_info": {
   "codemirror_mode": {
    "name": "ipython",
    "version": 3
   },
   "file_extension": ".py",
   "mimetype": "text/x-python",
   "name": "python",
   "nbconvert_exporter": "python",
   "pygments_lexer": "ipython3",
   "version": "3.7.0"
  },
  "toc": {
   "base_numbering": 1,
   "nav_menu": {},
   "number_sections": true,
   "sideBar": true,
   "skip_h1_title": false,
   "title_cell": "Table of Contents",
   "title_sidebar": "Contents",
   "toc_cell": false,
   "toc_position": {
    "height": "calc(100% - 180px)",
    "left": "10px",
    "top": "150px",
    "width": "384px"
   },
   "toc_section_display": true,
   "toc_window_display": true
  },
  "varInspector": {
   "cols": {
    "lenName": 16,
    "lenType": 16,
    "lenVar": 40
   },
   "kernels_config": {
    "python": {
     "delete_cmd_postfix": "",
     "delete_cmd_prefix": "del ",
     "library": "var_list.py",
     "varRefreshCmd": "print(var_dic_list())"
    },
    "r": {
     "delete_cmd_postfix": ") ",
     "delete_cmd_prefix": "rm(",
     "library": "var_list.r",
     "varRefreshCmd": "cat(var_dic_list()) "
    }
   },
   "types_to_exclude": [
    "module",
    "function",
    "builtin_function_or_method",
    "instance",
    "_Feature"
   ],
   "window_display": false
  }
 },
 "nbformat": 4,
 "nbformat_minor": 2
}
