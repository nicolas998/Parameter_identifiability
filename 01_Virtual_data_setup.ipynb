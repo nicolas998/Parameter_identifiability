{
 "cells": [
  {
   "cell_type": "markdown",
   "metadata": {},
   "source": [
    "# Load Packages"
   ]
  },
  {
   "cell_type": "code",
   "execution_count": 1,
   "metadata": {
    "ExecuteTime": {
     "end_time": "2020-07-22T21:59:38.339549Z",
     "start_time": "2020-07-22T21:59:35.561799Z"
    }
   },
   "outputs": [],
   "source": [
    "%matplotlib inline \n",
    "from ifis_tools import database_tools as db \n",
    "from ifis_tools import asynch_manager as am \n",
    "from ifis_tools import auxiliar as aux\n",
    "from wmf import wmf\n",
    "import pandas as pd \n",
    "import numpy as np \n",
    "import os \n",
    "import pylab as pl\n",
    "from string import Template\n",
    "from param_ident import core \n",
    "from aclayer import core as ac"
   ]
  },
  {
   "cell_type": "code",
   "execution_count": 2,
   "metadata": {
    "ExecuteTime": {
     "end_time": "2020-07-22T21:59:38.424172Z",
     "start_time": "2020-07-22T21:59:38.421850Z"
    }
   },
   "outputs": [],
   "source": [
    "names = {'south': {'path': 'data/for_hlm/south_skunk/'},\n",
    "        'turkey':{'path':'data/for_hlm/turkey/'}}"
   ]
  },
  {
   "cell_type": "markdown",
   "metadata": {},
   "source": [
    "# Define Watershed setups\n",
    "\n",
    "In this step we will produce the setups of the watersheds making variations of $v_0$ and $\\lambda_1$ for different sizes of sub-watersheds."
   ]
  },
  {
   "cell_type": "code",
   "execution_count": 3,
   "metadata": {
    "ExecuteTime": {
     "end_time": "2020-07-22T21:59:41.010885Z",
     "start_time": "2020-07-22T21:59:38.522995Z"
    }
   },
   "outputs": [],
   "source": [
    "#Get the watershed\n",
    "south = am.hlmModel(linkid=272678, ExtraParams=['h_order'])\n",
    "\n",
    "#Temporal rvr to get the topology of the watershed\n",
    "south.write_rvr('data/for_hlm/south_skunk/south_skunk.rvr')\n",
    "topo = south.topo.copy()\n",
    "topo.set_index('link_id', inplace = True)\n",
    "idx = south.Table.index.intersection(topo.index)\n",
    "south.Table['dest'] = topo['id'].loc[idx]"
   ]
  },
  {
   "cell_type": "code",
   "execution_count": 4,
   "metadata": {
    "ExecuteTime": {
     "end_time": "2020-07-22T21:59:43.549744Z",
     "start_time": "2020-07-22T21:59:41.133366Z"
    }
   },
   "outputs": [],
   "source": [
    "#Get the watershed\n",
    "turkey = am.hlmModel(linkid=434514, ExtraParams=['h_order'])\n",
    "\n",
    "#Temporal rvr to get the topology of the watershed\n",
    "turkey.write_rvr('data/for_hlm/turkey/turkey.rvr')\n",
    "topo = turkey.topo.copy()\n",
    "topo.set_index('link_id', inplace = True)\n",
    "idx = turkey.Table.index.intersection(topo.index)\n",
    "turkey.Table['dest'] = topo['id'].loc[idx]"
   ]
  },
  {
   "cell_type": "code",
   "execution_count": 5,
   "metadata": {
    "ExecuteTime": {
     "end_time": "2020-07-22T21:59:43.731610Z",
     "start_time": "2020-07-22T21:59:43.728904Z"
    }
   },
   "outputs": [],
   "source": [
    "wat = {'south': south, 'turkey': turkey}"
   ]
  },
  {
   "cell_type": "markdown",
   "metadata": {},
   "source": [
    "## Obtain sub-watersheds at different prun-levels\n",
    "\n",
    "Here we include levels from 7 to 4, then we will produce random values of $v_0$ and $\\lambda_1$ using a cascade approach."
   ]
  },
  {
   "cell_type": "code",
   "execution_count": null,
   "metadata": {
    "ExecuteTime": {
     "end_time": "2020-07-07T16:17:22.681258Z",
     "start_time": "2020-07-07T16:11:27.682259Z"
    }
   },
   "outputs": [],
   "source": [
    "# obtain the sub-watersheds for each one (this takes time try not to run it, instead read the data)\n",
    "core.Get_sub_watersheds(wat['south'], 7, 3)\n",
    "core.Get_sub_watersheds(wat['turkey'], 7, 3)\n",
    "# Save to csv files to avoid doing this again.\n",
    "wat['south'].Table.to_csv('data/for_hlm/south_skunk/watershed_table.csv')\n",
    "wat['turkey'].Table.to_csv('data/for_hlm/turkey/watershed_table.csv')"
   ]
  },
  {
   "cell_type": "code",
   "execution_count": 6,
   "metadata": {
    "ExecuteTime": {
     "end_time": "2020-07-22T21:59:44.018910Z",
     "start_time": "2020-07-22T21:59:43.919909Z"
    }
   },
   "outputs": [],
   "source": [
    "wat['south'].Table = pd.read_csv('data/for_hlm/south_skunk/watershed_table.csv', index_col=0)\n",
    "wat['turkey'].Table = pd.read_csv('data/for_hlm/turkey/watershed_table.csv', index_col=0)"
   ]
  },
  {
   "cell_type": "markdown",
   "metadata": {},
   "source": [
    "## Distribute $v_0$ and $\\lambda_1$ using the cascade\n"
   ]
  },
  {
   "cell_type": "markdown",
   "metadata": {},
   "source": [
    "Synchronic production of the virtual variables $v_0$ and $\\lambda_1$."
   ]
  },
  {
   "cell_type": "code",
   "execution_count": 7,
   "metadata": {
    "ExecuteTime": {
     "end_time": "2020-07-22T21:59:44.530295Z",
     "start_time": "2020-07-22T21:59:44.521844Z"
    }
   },
   "outputs": [],
   "source": [
    "def cascade_values_sync(Table, param, levels, seed_values, norm_dev = 0.15):\n",
    "    '''Generates a virtual setup of a watershed for a given set of values (seed_values)\n",
    "    the result is updates on the cu.Table DataFrame. Contrasted with the async version, this \n",
    "    version creates values that depends on the previous level.\n",
    "    Params:\n",
    "        - level: the minimum orton order to distribute the seed_values.\n",
    "        - param: name of the parameter in the table.\n",
    "        - seed_values: a list with the initial values for the biggest horton order.\n",
    "        - norm_dev: deviation aprameter to produce the random cascade.\n",
    "    Resutls:\n",
    "        - cu.Table[param]'''\n",
    "    p = param + '7'\n",
    "    Table[p] = 0.0    \n",
    "    for sub, value in zip(Table['prun_7'].unique(), seed_values):\n",
    "        Table.at[Table['prun_7'] == sub, p] = value\n",
    "\n",
    "    Factors = {}\n",
    "    #Iterate for each level\n",
    "    for level in np.arange(6,levels-1,-1):\n",
    "        \n",
    "        #Initial value\n",
    "        name = 'prun_'+str(level)\n",
    "        p = param + str(level)\n",
    "        Table[p] = Table[param + str(level+1)].copy()\n",
    "        fac = []\n",
    "        \n",
    "        #Iterate through the sub-watersheds of each level `\n",
    "        for subw in Table[name].unique():\n",
    "            factor = np.random.normal(1, norm_dev)            \n",
    "            Table.loc[Table[name] == subw, p] *= factor            \n",
    "            fac.append(factor)\n",
    "        Factors.update({str(level): fac})\n",
    "    return Factors"
   ]
  },
  {
   "cell_type": "code",
   "execution_count": 8,
   "metadata": {
    "ExecuteTime": {
     "end_time": "2020-07-22T21:52:11.957977Z",
     "start_time": "2020-07-22T21:52:01.192146Z"
    }
   },
   "outputs": [],
   "source": [
    "for name, seed in zip(['turkey','south'], [[0.15,0.2,0.18,0.25,0.3,0.35,0.4], [0.15,0.3,0.22]]):\n",
    "    f_vo = cascade_values_sync(wat[name].Table, 'vo', 4,  [0.15,0.3,0.22], 0.2)\n",
    "for name, seed in zip(['turkey','south'], [[0.19,0.22,0.2,0.22,0.2,0.23,0.3], [0.18,0.23,0.25]]):\n",
    "    f_l1 = cascade_values_sync(wat[name].Table, 'la', 4, seed, 0.2)"
   ]
  },
  {
   "cell_type": "code",
   "execution_count": 237,
   "metadata": {
    "ExecuteTime": {
     "end_time": "2020-07-09T02:44:33.669188Z",
     "start_time": "2020-07-09T02:44:33.664229Z"
    }
   },
   "outputs": [
    {
     "data": {
      "text/plain": [
       "0.22068185877495802"
      ]
     },
     "execution_count": 237,
     "metadata": {},
     "output_type": "execute_result"
    }
   ],
   "source": [
    "x = a['vo4'] * (a['Acum'] / a['Acum'].sum())\n",
    "x.sum()"
   ]
  },
  {
   "cell_type": "code",
   "execution_count": 239,
   "metadata": {
    "ExecuteTime": {
     "end_time": "2020-07-09T02:45:02.429246Z",
     "start_time": "2020-07-09T02:45:02.424150Z"
    }
   },
   "outputs": [
    {
     "data": {
      "text/plain": [
       "0.18913619460298808"
      ]
     },
     "execution_count": 239,
     "metadata": {},
     "output_type": "execute_result"
    }
   ],
   "source": [
    "x = a['la4'] * (a['Acum'] / a['Acum'].sum())\n",
    "x.sum()"
   ]
  },
  {
   "cell_type": "code",
   "execution_count": 243,
   "metadata": {
    "ExecuteTime": {
     "end_time": "2020-07-09T02:45:19.572996Z",
     "start_time": "2020-07-09T02:45:19.568611Z"
    }
   },
   "outputs": [
    {
     "data": {
      "text/plain": [
       "0.16132851376984242"
      ]
     },
     "execution_count": 243,
     "metadata": {},
     "output_type": "execute_result"
    }
   ],
   "source": [
    "a['la4'].mean()"
   ]
  },
  {
   "cell_type": "markdown",
   "metadata": {},
   "source": [
    "### Plot with the obtained distribution at each case."
   ]
  },
  {
   "cell_type": "code",
   "execution_count": 227,
   "metadata": {
    "ExecuteTime": {
     "end_time": "2020-07-08T20:58:43.035112Z",
     "start_time": "2020-07-08T20:58:42.943424Z"
    }
   },
   "outputs": [],
   "source": [
    "wat['south'].Table = pd.read_csv('data/for_hlm/south_skunk/water_virtual.csv', index_col = 0)\n",
    "wat['turkey'].Table = pd.read_csv('data/for_hlm/turkey/water_virtual.csv', index_col = 0)"
   ]
  },
  {
   "cell_type": "code",
   "execution_count": 228,
   "metadata": {
    "ExecuteTime": {
     "end_time": "2020-07-08T20:58:52.834640Z",
     "start_time": "2020-07-08T20:58:46.222321Z"
    },
    "hide_input": true
   },
   "outputs": [
    {
     "data": {
      "image/png": "[encoded data removed]",
      "text/plain": [
       "<Figure size 1440x864 with 4 Axes>"
      ]
     },
     "metadata": {
      "needs_background": "light"
     },
     "output_type": "display_data"
    }
   ],
   "source": [
    "fig  = pl.figure(figsize=(20,12))\n",
    "bins = np.arange(0.1,0.5,0.05)\n",
    "\n",
    "###################### Vo\n",
    "\n",
    "ax = fig.add_subplot(221)\n",
    "for n,alpha in zip(['vo6','vo5','vo4'],[0.85,0.6,0.4]):\n",
    "    h,b = ac.get_histogram(wat['south'].Table[n], bins = bins, inf = 0.1, sup = 0.5)\n",
    "    pl.bar(b[:-1], 100 * h / h.sum(), 0.05, align='edge', edgecolor = 'k', lw = 3, alpha = alpha, \n",
    "          label = 'Order ' + n[-1])\n",
    "ax.tick_params(labelsize = 23)\n",
    "ax.grid()\n",
    "ax.set_ylim(0,65)\n",
    "ax.set_title('a) $v_0$ for South skunk', size = 24)\n",
    "ax.set_ylabel('Fraction [$\\%$]', size = 23)\n",
    "ax.legend(loc = 0, fontsize = 'xx-large')\n",
    "ax.set_xticklabels([])\n",
    "\n",
    "ax = fig.add_subplot(222)\n",
    "for n,alpha in zip(['vo6','vo5','vo4'],[0.85,0.6,0.4]):\n",
    "    h,b = ac.get_histogram(wat['turkey'].Table[n], bins = bins, inf = 0.1, sup = 0.5)\n",
    "    pl.bar(b[:-1], 100 * h / h.sum(), 0.05, align='edge', edgecolor = 'k', lw = 3, alpha = alpha, \n",
    "          label = 'Order ' + n[-1])\n",
    "ax.tick_params(labelsize = 23)\n",
    "ax.grid()\n",
    "ax.set_ylim(0,65)\n",
    "ax.set_title('b) $v_0$ for Turkey', size = 24)\n",
    "ax.set_yticklabels([])\n",
    "ax.set_xticklabels([])\n",
    "\n",
    "\n",
    "###################### LAMBDA\n",
    "\n",
    "ax = fig.add_subplot(223)\n",
    "for n,alpha in zip(['la6','la5','la4'],[0.85,0.6,0.4]):\n",
    "    h,b = ac.get_histogram(wat['south'].Table[n], bins = bins, inf = 0.1, sup = 0.5)\n",
    "    pl.bar(b[:-1], 100 * h / h.sum(), 0.05, align='edge', edgecolor = 'k', lw = 3, alpha = alpha, \n",
    "          label = 'Order ' + n[-1])\n",
    "ax.tick_params(labelsize = 23)\n",
    "ax.grid()\n",
    "ax.set_ylim(0,65)\n",
    "ax.set_title('c) $\\lambda_1$ for South skunk', size = 24)\n",
    "ax.set_ylabel('Fraction [$\\%$]', size = 23)\n",
    "\n",
    "ax = fig.add_subplot(224)\n",
    "for n,alpha in zip(['la6','la5','la4'],[0.85,0.6,0.4]):\n",
    "    h,b = ac.get_histogram(wat['turkey'].Table[n], bins = bins, inf = 0.1, sup = 0.5)\n",
    "    pl.bar(b[:-1], 100 * h / h.sum(), 0.05, align='edge', edgecolor = 'k', lw = 3, alpha = alpha, \n",
    "          label = 'Order ' + n[-1])\n",
    "ax.tick_params(labelsize = 23)\n",
    "ax.grid()\n",
    "ax.set_ylim(0,65)\n",
    "ax.set_title('d) $\\lambda_1$ for Turkey', size = 24)\n",
    "ax.set_yticklabels([])\n",
    "pl.savefig('figures/Vo_and_L1_distribution_levels_654.png', bbox_inches = 'tight')"
   ]
  },
  {
   "cell_type": "markdown",
   "metadata": {},
   "source": [
    "# Write Waterhsed data for the HLM model to run "
   ]
  },
  {
   "cell_type": "markdown",
   "metadata": {},
   "source": [
    "Creates the control points for both watersheds"
   ]
  },
  {
   "cell_type": "code",
   "execution_count": 92,
   "metadata": {
    "ExecuteTime": {
     "end_time": "2020-07-22T21:33:34.232656Z",
     "start_time": "2020-07-22T21:33:33.435461Z"
    }
   },
   "outputs": [],
   "source": [
    "#Creates a sav file of the control points.\n",
    "for name in wat.keys():\n",
    "    for k in [4,5,6]:\n",
    "        f = open(names[name]['path'] + 'control_vr'+str(k)+'.sav','w')\n",
    "        for i in wat[name].Table['prun_'+str(k)].unique():\n",
    "            f.write('%d\\n' % wat[name].Table.loc[wat[name].Table['prun_'+str(k)] == i, 'Acum'].idxmax())\n",
    "        f.close()"
   ]
  },
  {
   "cell_type": "markdown",
   "metadata": {},
   "source": [
    "Setup the global parameters for both cases "
   ]
  },
  {
   "cell_type": "code",
   "execution_count": 8,
   "metadata": {
    "ExecuteTime": {
     "end_time": "2020-07-22T21:59:53.669093Z",
     "start_time": "2020-07-22T21:59:53.641579Z"
    }
   },
   "outputs": [],
   "source": [
    "#Set the global parameters for both watersheds.\n",
    "\n",
    "Params = {'v_r': {'value': 0.02,'format': '%.4f'},\n",
    "    'a_r': {'value': 1.67,'format': '%.2f'},\n",
    "    'a': {'value': 1.5e-6,'format': '%.2e'},\n",
    "    'b': {'value': 17,'format': '%.2f'},\n",
    "    'c': {'value': 5.5e-7,'format': '%.2e'}, # 0.001\n",
    "    'd': {'value': 35,'format': '%.2f'}, # 0.03\n",
    "    'm1': {'value': 2.045e-6,'format': '%.2e'},\n",
    "    'ki_fac': {'value': 0.02,'format': '%.4f'},\n",
    "    'TopDepth': {'value': 0.1,'format': '%.2f'},\n",
    "    'NoFlow': {'value': 1.48,'format': '%.2f'},\n",
    "    'Td': {'value': 999,'format': '%.2f'}, # 1.54\n",
    "    'Beta': {'value': 1.67,'format': '%.2f'},\n",
    "    'lambda1': {'value': 0.18,'format': '%.3f'},\n",
    "    'lambda2': {'value': -0.1,'format': '%.2f'},\n",
    "    'channel_vo': {'value': 0.25,'format': '%.3f'},} \n",
    "Order = ['v_r','a_r','a','b','c','d','m1','ki_fac',\n",
    "    'TopDepth','NoFlow','Td','Beta','lambda1', 'lambda2','channel_vo']\n",
    "for name in wat.keys():\n",
    "    wat[name].set_parameters(DictP=Params, DicOrder=Order)"
   ]
  },
  {
   "cell_type": "markdown",
   "metadata": {},
   "source": [
    "Setup the virtually distributed parameters of both cases."
   ]
  },
  {
   "cell_type": "code",
   "execution_count": 97,
   "metadata": {
    "ExecuteTime": {
     "end_time": "2020-07-22T21:34:59.254895Z",
     "start_time": "2020-07-22T21:34:50.574666Z"
    }
   },
   "outputs": [],
   "source": [
    "#setupo the distributed virtual parameters of both cases for the different levels.\n",
    "for name in wat.keys():\n",
    "    for i in [4,5,6]:\n",
    "        # setup the parameters for each watershed.\n",
    "        wat[name].Table.at[wat[name].Table.index, 'channel_vo'] = wat[name].Table['vo'+str(i)].values\n",
    "        wat[name].Table.at[wat[name].Table.index, 'lambda1'] = wat[name].Table['la'+str(i)].values\n",
    "        \n",
    "        #Write the param file to run HLM\n",
    "        wat[name].write_prm(names[name]['path']+'Tparam_o'+str(i)+'.prm', \n",
    "            extraNames=Order,\n",
    "            extraFormats=[Params[k]['format'] for k in Order])\n",
    "        "
   ]
  },
  {
   "cell_type": "markdown",
   "metadata": {},
   "source": [
    "Write the global files."
   ]
  },
  {
   "cell_type": "code",
   "execution_count": 188,
   "metadata": {
    "ExecuteTime": {
     "end_time": "2020-07-08T17:47:57.533495Z",
     "start_time": "2020-07-08T17:47:56.910614Z"
    }
   },
   "outputs": [],
   "source": [
    "for name in wat.keys():\n",
    "    path = names[name]['path']    \n",
    "    for y in range(2002,2019):\n",
    "        #Writes the global files and run files    \n",
    "        for k in [4,5,6]:\n",
    "            #Set the name of the global file\n",
    "            global_name = 'global_'+str(k)+'_'+str(y)+'.gbl'\n",
    "            #Writes the global file\n",
    "            wat[name].write_Global(path + global_name,model_uid=608,\n",
    "                date1=str(y)+'-03-01 01:00', \n",
    "                date2=str(y)+'-12-31 01:00',\n",
    "                rvrFile='/Users/nicolas/Parameter_identifiability/'+path+'topology.rvr', \n",
    "                rvrLink='',\n",
    "                prmFile='/Users/nicolas/Parameter_identifiability/'+path+'param_o'+str(k)+'.prm',\n",
    "                initialFile='/Users/nicolas/Parameter_identifiability/data/for_hlm/initial.uini',\n",
    "                initialType = 1,\n",
    "                rainPath = '/Dedicated/IFC/data_bin/stage4/st4_'+str(y)+'/iowa_',\n",
    "                controlFile='/Users/nicolas/Parameter_identifiability/'+path+'control_vr5.sav',\n",
    "                nComponents = 1,\n",
    "                Components = [0],\n",
    "                datResults='out_'+str(k)+'_'+str(y)+'.dat',\n",
    "                evpFile='/Users/nicolas/Parameter_identifiability/data/for_hlm/evap.mon')\n",
    "            #Updates the dictionary with the parameters to setup the run\n",
    "            Proc={global_name:{'nproc': 14, 'secondplane': False}}\n",
    "            #Writes the runfile with all the comands\n",
    "            wat[name].write_runfile(path + 'run_'+str(k)+'_'+str(y)+'.sh', \n",
    "                Proc, jobName='o'+str(k)+'_'+str(y), nCores= 14) "
   ]
  },
  {
   "cell_type": "markdown",
   "metadata": {},
   "source": [
    "## Run the prun level 4 setup to save snapshots to then run just relevant events "
   ]
  },
  {
   "cell_type": "code",
   "execution_count": 65,
   "metadata": {
    "ExecuteTime": {
     "end_time": "2020-07-22T23:40:02.365100Z",
     "start_time": "2020-07-22T23:39:58.882884Z"
    }
   },
   "outputs": [],
   "source": [
    "for name in wat.keys():\n",
    "    path = names[name]['path']    \n",
    "    for y in range(2002,2019):\n",
    "        #Writes the global files and run files    \n",
    "        for k in [4,]:\n",
    "            #Set the name of the global file\n",
    "            global_name = 'global_'+str(k)+'_'+str(y)+'.gbl'\n",
    "            #Writes the global file\n",
    "            wat[name].write_Global(path + global_name,model_uid=608,\n",
    "                date1=str(y)+'-03-01 01:00', \n",
    "                date2=str(y)+'-12-31 01:00',\n",
    "                rvrFile='/Users/nicolas/Parameter_identifiability/'+path+'topology.rvr', \n",
    "                rvrLink='',\n",
    "                prmFile='/Users/nicolas/Parameter_identifiability/'+path+'param_o'+str(k)+'.prm',\n",
    "                initialFile='/Users/nicolas/Parameter_identifiability/data/for_hlm/initial.uini',\n",
    "                initialType = 1,\n",
    "                rainPath = '/Dedicated/IFC/data_bin/stage4/st4_'+str(y)+'/iowa_',\n",
    "                controlFile='/Users/nicolas/Parameter_identifiability/'+path+'control_vr5.sav',\n",
    "                nComponents = 1,\n",
    "                Components = [0],\n",
    "                datResults='out_'+str(k)+'_'+str(y)+'.dat',\n",
    "                snapType = 4,\n",
    "                snapTime = 1440,\n",
    "                snapPath = '/Users/nicolas/Parameter_identifiability/data/for_hlm/south_skunk/snapshots/p4.h5',\n",
    "                evpFile='/Users/nicolas/Parameter_identifiability/data/for_hlm/evap.mon')\n",
    "            #Updates the dictionary with the parameters to setup the run\n",
    "            Proc={global_name:{'nproc': 14, 'secondplane': False}}\n",
    "            #Writes the runfile with all the comands\n",
    "            wat[name].write_runfile(path + 'run_'+str(k)+'_'+str(y)+'.sh', \n",
    "                Proc, jobName='o'+str(k)+'_'+str(y), nCores= 14) "
   ]
  },
  {
   "cell_type": "markdown",
   "metadata": {},
   "source": [
    "# Random watersheds of order 5.\n",
    "\n",
    "Here we generate 10 random watersheds that distribute the parameters at the prun level 5. "
   ]
  },
  {
   "cell_type": "code",
   "execution_count": 13,
   "metadata": {
    "ExecuteTime": {
     "end_time": "2020-07-22T22:06:57.040335Z",
     "start_time": "2020-07-22T22:06:57.037851Z"
    }
   },
   "outputs": [],
   "source": [
    "y = 815"
   ]
  },
  {
   "cell_type": "code",
   "execution_count": 10,
   "metadata": {
    "ExecuteTime": {
     "end_time": "2020-07-22T22:00:05.320269Z",
     "start_time": "2020-07-22T22:00:05.252089Z"
    }
   },
   "outputs": [],
   "source": [
    "path = names['south']['path']"
   ]
  },
  {
   "cell_type": "code",
   "execution_count": null,
   "metadata": {},
   "outputs": [],
   "source": [
    "years = [2008,2010,2013,2016,2018]"
   ]
  },
  {
   "cell_type": "code",
   "execution_count": 20,
   "metadata": {
    "ExecuteTime": {
     "end_time": "2020-07-22T22:18:36.652118Z",
     "start_time": "2020-07-22T22:18:34.039728Z"
    }
   },
   "outputs": [],
   "source": [
    "#setupo the distributed virtual parameters of both cases for the different levels.\n",
    "for name in wat.keys():\n",
    "    for i in range(1,2):\n",
    "        # Create random parameters for the prun 5 level \n",
    "        f_vo = cascade_values_sync(wat['south'].Table, 'vo', 5, [0.15,0.3,0.22], 0.2)\n",
    "        f_l1 = cascade_values_sync(wat['south'].Table, 'la', 5, [0.18,0.23,0.25], 0.2)\n",
    "        \n",
    "        # setup the parameters for each watershed.\n",
    "        wat['south'].Table.at[wat['south'].Table.index, 'channel_vo'] = wat['south'].Table['vo5'].values\n",
    "        wat['south'].Table.at[wat['south'].Table.index, 'lambda1'] = wat['south'].Table['la5'].values\n",
    "        \n",
    "        #Write the param file to run HLM\n",
    "        wat['south'].write_prm(names['south']['path']+'param_s'+str(i)+'.prm', \n",
    "            extraNames=Order,\n",
    "            extraFormats=[Params[k]['format'] for k in Order])\n",
    "        \n",
    "        #Writes the global and the runfile for each experiment\n",
    "        #for y in range(2002,2019):            \n",
    "        #Set the name of the global file\n",
    "        global_name = 'global_s'+str(i)+'_'+str(y)+'.gbl'\n",
    "        #Writes the global file\n",
    "        wat[name].write_Global(path + global_name,model_uid=608,\n",
    "            date1='2016'+'-03-01 01:00', \n",
    "            date2='2016'+'-12-31 01:00',\n",
    "            rvrFile='/Users/nicolas/Parameter_identifiability/'+path+'topology.rvr', \n",
    "            rvrLink='',\n",
    "            prmFile='/Users/nicolas/Parameter_identifiability/'+path+'param_s'+str(i)+'.prm',\n",
    "            initialFile='/Users/nicolas/Parameter_identifiability/data/for_hlm/initial.uini',\n",
    "            initialType = 1,\n",
    "            rainPath = '/Dedicated/IFC/data_bin/stage4/st4_'+str(y)+'/iowa_',\n",
    "            controlFile='/Users/nicolas/Parameter_identifiability/'+path+'control_vr5.sav',\n",
    "            nComponents = 1,\n",
    "            Components = [0],\n",
    "            datResults='out_'+str(i)+'_'+str(y)+'.h5',\n",
    "            datType = 5,\n",
    "            evpFile='/Users/nicolas/Parameter_identifiability/data/for_hlm/evap.mon')\n",
    "        #Updates the dictionary with the parameters to setup the run\n",
    "        Proc={global_name:{'nproc': 14, 'secondplane': False}}\n",
    "        #Writes the runfile with all the comands\n",
    "        wat[name].write_runfile(path + 'run_s'+str(i)+'_'+str(y)+'.sh', \n",
    "            Proc, jobName='o'+str(i)+'_'+str(y), nCores= 14) \n",
    "\n",
    "        "
   ]
  },
  {
   "cell_type": "code",
   "execution_count": 21,
   "metadata": {
    "ExecuteTime": {
     "end_time": "2020-07-22T22:19:50.304078Z",
     "start_time": "2020-07-22T22:19:50.274788Z"
    }
   },
   "outputs": [],
   "source": [
    "q = pd.read_hdf('data/for_hlm/south_skunk/out_1_815.h5',)"
   ]
  },
  {
   "cell_type": "code",
   "execution_count": 23,
   "metadata": {
    "ExecuteTime": {
     "end_time": "2020-07-22T22:20:34.836630Z",
     "start_time": "2020-07-22T22:20:34.719595Z"
    }
   },
   "outputs": [],
   "source": [
    "import h5py\n",
    "import h5"
   ]
  },
  {
   "cell_type": "code",
   "execution_count": 24,
   "metadata": {
    "ExecuteTime": {
     "end_time": "2020-07-22T22:20:59.870390Z",
     "start_time": "2020-07-22T22:20:59.866053Z"
    }
   },
   "outputs": [],
   "source": [
    "h = h5py.File('data/for_hlm/south_skunk/out_1_815.h5','r')"
   ]
  },
  {
   "cell_type": "code",
   "execution_count": 31,
   "metadata": {
    "ExecuteTime": {
     "end_time": "2020-07-22T22:21:51.984481Z",
     "start_time": "2020-07-22T22:21:51.980385Z"
    }
   },
   "outputs": [
    {
     "data": {
      "text/plain": [
       "KeysView(<HDF5 file \"out_1_815.h5\" (mode r)>)"
      ]
     },
     "execution_count": 31,
     "metadata": {},
     "output_type": "execute_result"
    }
   ],
   "source": [
    "h.keys()"
   ]
  },
  {
   "cell_type": "code",
   "execution_count": 42,
   "metadata": {
    "ExecuteTime": {
     "end_time": "2020-07-22T22:23:41.448035Z",
     "start_time": "2020-07-22T22:23:41.444334Z"
    }
   },
   "outputs": [
    {
     "data": {
      "text/plain": [
       "KeysView(<HDF5 file \"out_1_815.h5\" (mode r)>)"
      ]
     },
     "execution_count": 42,
     "metadata": {},
     "output_type": "execute_result"
    }
   ],
   "source": [
    "h.keys()"
   ]
  },
  {
   "cell_type": "code",
   "execution_count": 44,
   "metadata": {
    "ExecuteTime": {
     "end_time": "2020-07-22T22:24:51.104691Z",
     "start_time": "2020-07-22T22:24:51.102258Z"
    }
   },
   "outputs": [],
   "source": [
    "g = h['/']"
   ]
  },
  {
   "cell_type": "code",
   "execution_count": 59,
   "metadata": {
    "ExecuteTime": {
     "end_time": "2020-07-22T22:29:34.028152Z",
     "start_time": "2020-07-22T22:29:34.019207Z"
    }
   },
   "outputs": [
    {
     "ename": "TypeError",
     "evalue": "'method' object is not subscriptable",
     "output_type": "error",
     "traceback": [
      "\u001b[0;31m---------------------------------------------------------------------------\u001b[0m",
      "\u001b[0;31mTypeError\u001b[0m                                 Traceback (most recent call last)",
      "\u001b[0;32m<ipython-input-59-a5af60bdce5d>\u001b[0m in \u001b[0;36m<module>\u001b[0;34m\u001b[0m\n\u001b[0;32m----> 1\u001b[0;31m \u001b[0mo\u001b[0m \u001b[0;34m=\u001b[0m \u001b[0mh\u001b[0m\u001b[0;34m.\u001b[0m\u001b[0mget\u001b[0m\u001b[0;34m[\u001b[0m\u001b[0;34m'outputs'\u001b[0m\u001b[0;34m]\u001b[0m\u001b[0;34m\u001b[0m\u001b[0m\n\u001b[0m",
      "\u001b[0;31mTypeError\u001b[0m: 'method' object is not subscriptable"
     ]
    }
   ],
   "source": [
    "o = h.get['outputs']"
   ]
  },
  {
   "cell_type": "code",
   "execution_count": 51,
   "metadata": {
    "ExecuteTime": {
     "end_time": "2020-07-22T22:26:02.281413Z",
     "start_time": "2020-07-22T22:26:02.255198Z"
    }
   },
   "outputs": [
    {
     "data": {
      "text/plain": [
       "array([(1.0000000e-06,), (5.6097266e-04,), (1.2954471e-03,), ...,\n",
       "       (5.4735615e-08,), (5.4687831e-08,), (5.4640100e-08,)],\n",
       "      dtype=[('State0', '<f4')])"
      ]
     },
     "execution_count": 51,
     "metadata": {},
     "output_type": "execute_result"
    }
   ],
   "source": [
    "o.value"
   ]
  },
  {
   "cell_type": "code",
   "execution_count": null,
   "metadata": {},
   "outputs": [],
   "source": []
  }
 ],
 "metadata": {
  "kernelspec": {
   "display_name": "Python 3",
   "language": "python",
   "name": "python3"
  },
  "language_info": {
   "codemirror_mode": {
    "name": "ipython",
    "version": 3
   },
   "file_extension": ".py",
   "mimetype": "text/x-python",
   "name": "python",
   "nbconvert_exporter": "python",
   "pygments_lexer": "ipython3",
   "version": "3.7.0"
  },
  "toc": {
   "base_numbering": 1,
   "nav_menu": {},
   "number_sections": true,
   "sideBar": true,
   "skip_h1_title": false,
   "title_cell": "Table of Contents",
   "title_sidebar": "Contents",
   "toc_cell": false,
   "toc_position": {
    "height": "calc(100% - 180px)",
    "left": "10px",
    "top": "150px",
    "width": "384px"
   },
   "toc_section_display": true,
   "toc_window_display": true
  },
  "varInspector": {
   "cols": {
    "lenName": 16,
    "lenType": 16,
    "lenVar": 40
   },
   "kernels_config": {
    "python": {
     "delete_cmd_postfix": "",
     "delete_cmd_prefix": "del ",
     "library": "var_list.py",
     "varRefreshCmd": "print(var_dic_list())"
    },
    "r": {
     "delete_cmd_postfix": ") ",
     "delete_cmd_prefix": "rm(",
     "library": "var_list.r",
     "varRefreshCmd": "cat(var_dic_list()) "
    }
   },
   "types_to_exclude": [
    "module",
    "function",
    "builtin_function_or_method",
    "instance",
    "_Feature"
   ],
   "window_display": false
  }
 },
 "nbformat": 4,
 "nbformat_minor": 2
}
